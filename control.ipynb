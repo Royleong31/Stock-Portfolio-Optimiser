{
 "cells": [
  {
   "cell_type": "markdown",
   "metadata": {},
   "source": [
    "## Control Dataset"
   ]
  },
  {
   "cell_type": "code",
   "execution_count": 9,
   "metadata": {},
   "outputs": [],
   "source": [
    "import warnings\n",
    "import itertools\n",
    "import numpy as np\n",
    "import matplotlib.pyplot as plt\n",
    "warnings.filterwarnings(\"ignore\")\n",
    "plt.style.use('fivethirtyeight')\n",
    "import pandas as pd\n",
    "import statsmodels.api as sm\n",
    "import matplotlib\n",
    "from pandas_datareader import data as web\n",
    "import utils.getStockData as stockData\n",
    "import utils.calculateReturns as calculateReturns\n",
    "import utils.sharpeCalculation as sharpeCalculation"
   ]
  },
  {
   "cell_type": "code",
   "execution_count": 10,
   "metadata": {},
   "outputs": [],
   "source": [
    "stocks = [\"AAPL\", \"CAH\", \"CMCSA\", \"DISH\", \"GOOG\", \"HSY\", \"JNJ\", \"JPM\", \"K\", \"MA\", \"NFLX\", \"UL\", \"WBA\"]\n",
    "stockAllocation = {'AAPL': 0.41709, 'CAH': 0.0, 'CMCSA': 0.00698, 'DISH': 0.01731, 'GOOG': 0.00761, 'HSY': 0.19678, 'JNJ': 0.0, 'JPM': 0.0, 'K': 0.0, 'MA': 0.17018, 'NFLX': 0.17273, 'UL': 0.0, 'WBA': 0.01132}\\\n",
    "# stockAllocation = {'AAPL': 1/13, 'CAH': 1/13, 'CMCSA':1/13, 'DISH': 1/13, 'GOOG': 1/13, 'HSY': 1/13, 'JNJ': 1/13, 'JPM': 1/13, 'K': 1/13, 'MA': 1/13, 'NFLX': 1/13, 'UL': 1/13, 'WBA': 1/13}\n",
    "startDate = '2017-11-30'\n",
    "endDate = '2022-03-18'\n"
   ]
  },
  {
   "cell_type": "code",
   "execution_count": 11,
   "metadata": {},
   "outputs": [],
   "source": [
    "data = stockData.getMultipleStocks(stocks, startDate, endDate)\n",
    "data.columns =  stocks\n",
    "data = data[1:] # this is to get rid of the 2017-11-30 data which is irrelevant, but used above to calculate the average for dec 2018"
   ]
  },
  {
   "cell_type": "code",
   "execution_count": 12,
   "metadata": {},
   "outputs": [],
   "source": [
    "portfolioMonthlyPercentageChange = calculateReturns.calculateReturns(data)"
   ]
  },
  {
   "cell_type": "code",
   "execution_count": 13,
   "metadata": {},
   "outputs": [
    {
     "data": {
      "text/plain": [
       "[5.683368509406885,\n",
       " -0.06272548501660895,\n",
       " 4.637557095334516,\n",
       " -2.6228673623986754,\n",
       " 5.6007220474173325,\n",
       " 4.432141819705776,\n",
       " 1.1212128360497264,\n",
       " 4.943932350806221,\n",
       " 4.4208523523854035,\n",
       " -2.4007991616301276,\n",
       " -7.983221269093549,\n",
       " -8.213149944562362,\n",
       " 1.651182891397399,\n",
       " 8.903332182618046,\n",
       " 4.270020993130004,\n",
       " 6.212768530510999,\n",
       " -0.012004822809248625,\n",
       " 2.4461516619057044,\n",
       " 4.620253455738466,\n",
       " -1.2465566861236992,\n",
       " 1.733825338549363,\n",
       " 2.366296183397427,\n",
       " 6.060307609035092,\n",
       " 4.2282675383891855,\n",
       " 8.260510408185471,\n",
       " 3.167079430544052,\n",
       " -14.638075893839662,\n",
       " 4.528598643169377,\n",
       " 7.987273989751131,\n",
       " 6.671299230891008,\n",
       " 7.5271760351009345,\n",
       " 12.795267074387565,\n",
       " -1.4907523010762136,\n",
       " 0.8736705606932388,\n",
       " 0.11932149773749648,\n",
       " 5.725462212639423,\n",
       " 2.0101449482188114,\n",
       " 0.6397730956725498,\n",
       " -1.7958446238010741,\n",
       " 5.78133093071347,\n",
       " -1.811791107456759,\n",
       " 1.4940821172694725,\n",
       " 6.721983488388332,\n",
       " 0.4145260953569952,\n",
       " 0.804318001497399,\n",
       " 1.2811167738222968,\n",
       " 2.4294113556955987,\n",
       " 4.609662157896769,\n",
       " -2.193503947493142,\n",
       " -2.233737127801874,\n",
       " -5.72782213633797]"
      ]
     },
     "execution_count": 13,
     "metadata": {},
     "output_type": "execute_result"
    }
   ],
   "source": [
    "portfolioPercentageChanges = calculateReturns.portfolioReturnFixedAllocation(portfolioMonthlyPercentageChange, stockAllocation)\n",
    "portfolioPercentageChanges"
   ]
  },
  {
   "cell_type": "code",
   "execution_count": 14,
   "metadata": {},
   "outputs": [],
   "source": [
    "portfolioValue = calculateReturns.calculatePortfolioValue(portfolioPercentageChanges)\n",
    "portfolioTotalValue = list(map(lambda x: x*100000, portfolioValue))"
   ]
  },
  {
   "cell_type": "code",
   "execution_count": 15,
   "metadata": {},
   "outputs": [],
   "source": [
    "portfolioValueChange = []\n",
    "for i, value in enumerate(portfolioPercentageChanges):\n",
    "    portfolioValueChange.append(value/100)\n"
   ]
  },
  {
   "cell_type": "code",
   "execution_count": 16,
   "metadata": {},
   "outputs": [
    {
     "name": "stdout",
     "output_type": "stream",
     "text": [
      "Final Portfolio Value: 266355.3001058634\n",
      "Sharpe Ratio: 2.9982171484439317\n",
      "Percentage Return: 166.36%\n"
     ]
    }
   ],
   "source": [
    "finalPortfolioValue = portfolioTotalValue[-1]\n",
    "sharpeRatio = sharpeCalculation.sharpe_ratio(portfolioValueChange)\n",
    "print(\"Final Portfolio Value:\", finalPortfolioValue)\n",
    "print(\"Sharpe Ratio:\", sharpeRatio)\n",
    "print(\"Percentage Return: \" + str(round((portfolioValue[-1]-1) * 100, 2)) + \"%\")"
   ]
  },
  {
   "cell_type": "markdown",
   "metadata": {},
   "source": [
    "TO-Do\n",
    "- Insert graph for total portfolio value\n",
    "- Fix sharpe ratio calculations"
   ]
  }
 ],
 "metadata": {
  "interpreter": {
   "hash": "b6e63098ef74ed95c52295ce8bf4e674c61938cd490bcb42e4bd984a3c3c2a69"
  },
  "kernelspec": {
   "display_name": "Python 3.9.7 ('base')",
   "language": "python",
   "name": "python3"
  },
  "language_info": {
   "codemirror_mode": {
    "name": "ipython",
    "version": 3
   },
   "file_extension": ".py",
   "mimetype": "text/x-python",
   "name": "python",
   "nbconvert_exporter": "python",
   "pygments_lexer": "ipython3",
   "version": "3.9.7"
  },
  "orig_nbformat": 4
 },
 "nbformat": 4,
 "nbformat_minor": 2
}
