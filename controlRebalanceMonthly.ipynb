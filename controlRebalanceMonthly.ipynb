{
 "cells": [
  {
   "cell_type": "markdown",
   "metadata": {},
   "source": [
    "# Monthly Rebalance Control"
   ]
  },
  {
   "cell_type": "code",
   "execution_count": 57,
   "metadata": {},
   "outputs": [],
   "source": [
    "import warnings\n",
    "import itertools\n",
    "import numpy as np\n",
    "import matplotlib.pyplot as plt\n",
    "warnings.filterwarnings(\"ignore\")\n",
    "plt.style.use('fivethirtyeight')\n",
    "import pandas as pd\n",
    "import statsmodels.api as sm\n",
    "import matplotlib\n",
    "from pandas_datareader import data as web\n",
    "import utils.getStockData as stockData\n",
    "import utils.calculateReturns as calculateReturns\n",
    "import utils.sharpeCalculation as sharpeCalculation"
   ]
  },
  {
   "cell_type": "code",
   "execution_count": 58,
   "metadata": {},
   "outputs": [],
   "source": [
    "stocks = [\"AAPL\", \"CAH\", \"CMCSA\", \"DISH\", \"GOOG\", \"HSY\", \"JNJ\", \"JPM\", \"K\", \"MA\", \"NFLX\", \"UL\", \"WBA\"]\n",
    "# stockAllocation = {'AAPL': 0.41709, 'CAH': 0.0, 'CMCSA': 0.00698, 'DISH': 0.01731, 'GOOG': 0.00761, 'HSY': 0.19678, 'JNJ': 0.0, 'JPM': 0.0, 'K': 0.0, 'MA': 0.17018, 'NFLX': 0.17273, 'UL': 0.0, 'WBA': 0.01132}\n",
    "stockAllocation = {'AAPL': 1/13, 'CAH': 1/13, 'CMCSA':1/13, 'DISH': 1/13, 'GOOG': 1/13, 'HSY': 1/13, 'JNJ': 1/13, 'JPM': 1/13, 'K': 1/13, 'MA': 1/13, 'NFLX': 1/13, 'UL': 1/13, 'WBA': 1/13}\n",
    "startDate = '2017-11-30'\n",
    "endDate = '2022-03-18'"
   ]
  },
  {
   "cell_type": "code",
   "execution_count": 59,
   "metadata": {},
   "outputs": [],
   "source": [
    "data = stockData.getMultipleStocks(stocks, startDate, endDate)\n",
    "data.columns =  stocks\n",
    "data = data[1:] # this is to get rid of the 2017-11-30 data which is irrelevant, but used above to calculate the average for dec 2018"
   ]
  },
  {
   "cell_type": "code",
   "execution_count": 60,
   "metadata": {},
   "outputs": [],
   "source": [
    "portfolioMonthlyPercentageChange = calculateReturns.calculateReturns(data)\n",
    "portfolioPercentageChanges = calculateReturns.portfolioReturnFixedAllocation(portfolioMonthlyPercentageChange, stockAllocation)"
   ]
  },
  {
   "cell_type": "code",
   "execution_count": 61,
   "metadata": {},
   "outputs": [],
   "source": [
    "portfolioValue = [1] + calculateReturns.calculatePortfolioValue(portfolioPercentageChanges)\n",
    "portfolioValueChange = list(map(lambda x: x/100, portfolioPercentageChanges))\n",
    "portfolioTotalValue = list(map(lambda x: x*100000, portfolioValue))"
   ]
  },
  {
   "cell_type": "code",
   "execution_count": 62,
   "metadata": {},
   "outputs": [
    {
     "name": "stdout",
     "output_type": "stream",
     "text": [
      "Final Portfolio Value: $141633.2780215111\n",
      "Sharpe Ratio: 1.37\n",
      "Percentage Return: 41.63%\n"
     ]
    }
   ],
   "source": [
    "finalPortfolioValue = portfolioTotalValue[-1]\n",
    "sharpeRatio = sharpeCalculation.sharpe_ratio(portfolioValueChange)\n",
    "print(f\"Final Portfolio Value: ${finalPortfolioValue}\")\n",
    "print(\"Sharpe Ratio:\", round(sharpeRatio, 2))\n",
    "print(\"Percentage Return: \" + str(round((portfolioValue[-1]-1) * 100, 2)) + \"%\")"
   ]
  },
  {
   "cell_type": "code",
   "execution_count": 63,
   "metadata": {},
   "outputs": [
    {
     "data": {
      "text/plain": [
       "[1,\n",
       " 1.054711280729583,\n",
       " 1.0294106008787143,\n",
       " 1.0265303538123267,\n",
       " 0.993098616055625,\n",
       " 0.9800456154749109,\n",
       " 1.0079227586504764,\n",
       " 1.0242836475506059,\n",
       " 1.0604842210400514,\n",
       " 1.0851635237955812,\n",
       " 1.0542816923920664,\n",
       " 1.0381251614789677,\n",
       " 0.9723191062898897,\n",
       " 0.9768270637372906,\n",
       " 1.0317182246346561,\n",
       " 1.0384676328142763,\n",
       " 1.0671702254661815,\n",
       " 1.069459201464352,\n",
       " 1.0758292563676983,\n",
       " 1.1132152556143016,\n",
       " 1.0811963965782345,\n",
       " 1.1169315326244535,\n",
       " 1.1155923354856394,\n",
       " 1.1710843854508826,\n",
       " 1.1928420197729488,\n",
       " 1.2314917333663167,\n",
       " 1.2520450904156426,\n",
       " 1.0468076421775452,\n",
       " 1.068573146578887,\n",
       " 1.1141220721794374,\n",
       " 1.1911945695640487,\n",
       " 1.2191591993878563,\n",
       " 1.2780778460489568,\n",
       " 1.2409726750442325,\n",
       " 1.2346150399501994,\n",
       " 1.2942322371270667,\n",
       " 1.340076023197661,\n",
       " 1.3711095745434403,\n",
       " 1.3926218331155718,\n",
       " 1.4339821695080526,\n",
       " 1.4995492851477545,\n",
       " 1.5295684411474904,\n",
       " 1.5267141383254386,\n",
       " 1.543330184665563,\n",
       " 1.5514420451001445,\n",
       " 1.5505558231027516,\n",
       " 1.5396902115123554,\n",
       " 1.5307838352578418,\n",
       " 1.5231174538491943,\n",
       " 1.5267315292186716,\n",
       " 1.4807673663205247,\n",
       " 1.4163327802151109]"
      ]
     },
     "execution_count": 63,
     "metadata": {},
     "output_type": "execute_result"
    }
   ],
   "source": [
    "portfolioValue"
   ]
  }
 ],
 "metadata": {
  "interpreter": {
   "hash": "b6e63098ef74ed95c52295ce8bf4e674c61938cd490bcb42e4bd984a3c3c2a69"
  },
  "kernelspec": {
   "display_name": "Python 3.9.7 ('base')",
   "language": "python",
   "name": "python3"
  },
  "language_info": {
   "codemirror_mode": {
    "name": "ipython",
    "version": 3
   },
   "file_extension": ".py",
   "mimetype": "text/x-python",
   "name": "python",
   "nbconvert_exporter": "python",
   "pygments_lexer": "ipython3",
   "version": "3.9.7"
  },
  "orig_nbformat": 4
 },
 "nbformat": 4,
 "nbformat_minor": 2
}
