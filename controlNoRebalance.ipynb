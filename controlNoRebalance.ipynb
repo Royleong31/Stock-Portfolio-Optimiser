{
 "cells": [
  {
   "cell_type": "code",
   "execution_count": 76,
   "metadata": {},
   "outputs": [],
   "source": [
    "import warnings\n",
    "import itertools\n",
    "import numpy as np\n",
    "import matplotlib.pyplot as plt\n",
    "warnings.filterwarnings(\"ignore\")\n",
    "plt.style.use('fivethirtyeight')\n",
    "import pandas as pd\n",
    "import statsmodels.api as sm\n",
    "import matplotlib\n",
    "from pandas_datareader import data as web\n",
    "import utils.getStockData as stockData\n",
    "import utils.calculateReturns as calculateReturns\n",
    "import utils.sharpeCalculation as sharpeCalculation"
   ]
  },
  {
   "cell_type": "code",
   "execution_count": 77,
   "metadata": {},
   "outputs": [],
   "source": [
    "stocks = [\"AAPL\", \"CAH\", \"CMCSA\", \"DISH\", \"GOOG\", \"HSY\", \"JNJ\", \"JPM\", \"K\", \"MA\", \"NFLX\", \"UL\", \"WBA\"]\n",
    "# stockAllocation = {'AAPL': 0.41709, 'CAH': 0.0, 'CMCSA': 0.00698, 'DISH': 0.01731, 'GOOG': 0.00761, 'HSY': 0.19678, 'JNJ': 0.0, 'JPM': 0.0, 'K': 0.0, 'MA': 0.17018, 'NFLX': 0.17273, 'UL': 0.0, 'WBA': 0.01132}\n",
    "stockAllocation = {'AAPL': 1/13, 'CAH': 1/13, 'CMCSA':1/13, 'DISH': 1/13, 'GOOG': 1/13, 'HSY': 1/13, 'JNJ': 1/13, 'JPM': 1/13, 'K': 1/13, 'MA': 1/13, 'NFLX': 1/13, 'UL': 1/13, 'WBA': 1/13}\n",
    "startDate = '2017-11-30'\n",
    "endDate = '2022-03-18'"
   ]
  },
  {
   "cell_type": "code",
   "execution_count": 78,
   "metadata": {},
   "outputs": [],
   "source": [
    "data = stockData.getMultipleStocks(stocks, startDate, endDate)\n",
    "data.columns =  stocks\n",
    "data = data[1:] # this is to get rid of the 2017-11-30 data which is irrelevant, but used above to calculate the average for dec 2018"
   ]
  },
  {
   "cell_type": "code",
   "execution_count": 79,
   "metadata": {},
   "outputs": [],
   "source": [
    "firstRow = data.iloc[0]\n",
    "lastRow = data.iloc[-1]"
   ]
  },
  {
   "cell_type": "code",
   "execution_count": 80,
   "metadata": {},
   "outputs": [],
   "source": [
    "numberOfEachStock = dict()\n",
    "portfolioValue = []\n",
    "for key in data.keys():\n",
    "    numberOfEachStock[key] = 1/13 / firstRow[key]\n",
    "\n",
    "for i, value in data.iterrows():\n",
    "    currentValue = 0\n",
    "    for ticker in data.keys():\n",
    "        currentValue += value[ticker]*numberOfEachStock[ticker]\n",
    "    portfolioValue.append(currentValue)"
   ]
  },
  {
   "cell_type": "code",
   "execution_count": 81,
   "metadata": {},
   "outputs": [],
   "source": [
    "portfolioPercentageChange = []\n",
    "for i,value in enumerate(portfolioValue):\n",
    "    if i==0:\n",
    "        continue\n",
    "    portfolioPercentageChange.append(((value - portfolioValue[i-1])*100/portfolioValue[i-1])/100)"
   ]
  },
  {
   "cell_type": "code",
   "execution_count": 82,
   "metadata": {},
   "outputs": [
    {
     "name": "stdout",
     "output_type": "stream",
     "text": [
      "{'AAPL': 272.6603232335164, 'CAH': -12.18089279212992, 'CMCSA': 16.952385575386092, 'DISH': -37.73725390541655, 'GOOG': 152.9042568444153, 'HSY': 82.08331662975388, 'JNJ': 21.228729146086604, 'JPM': 26.447502364827148, 'K': -6.832902248314589, 'MA': 121.72116270215308, 'NFLX': 91.19128386075828, 'UL': -18.476757960009287, 'WBA': -34.256080255820514}\n"
     ]
    }
   ],
   "source": [
    "stockPercentageChange = dict()\n",
    "for key in data.keys():\n",
    "    stockPercentageChange[key] = 100* (lastRow[key] - firstRow[key])/firstRow[key]"
   ]
  },
  {
   "cell_type": "code",
   "execution_count": 83,
   "metadata": {},
   "outputs": [
    {
     "name": "stdout",
     "output_type": "stream",
     "text": [
      "Final Portfolio Value: $151977.31\n",
      "Sharpe Ratio: 1.63\n",
      "Percentage Return: 51.98%\n"
     ]
    }
   ],
   "source": [
    "finalPortfolioValue = portfolioValue[-1]*100000\n",
    "sharpeRatio = sharpeCalculation.sharpe_ratio(portfolioPercentageChange)\n",
    "print(f\"Final Portfolio Value: ${round(finalPortfolioValue, 2)}\")\n",
    "print(\"Sharpe Ratio:\", round(sharpeRatio, 2))\n",
    "print(\"Percentage Return: \" + str(round((finalPortfolioValue-100000)*100/100000, 2)) + \"%\")"
   ]
  }
 ],
 "metadata": {
  "interpreter": {
   "hash": "b6e63098ef74ed95c52295ce8bf4e674c61938cd490bcb42e4bd984a3c3c2a69"
  },
  "kernelspec": {
   "display_name": "Python 3.9.7 ('base')",
   "language": "python",
   "name": "python3"
  },
  "language_info": {
   "codemirror_mode": {
    "name": "ipython",
    "version": 3
   },
   "file_extension": ".py",
   "mimetype": "text/x-python",
   "name": "python",
   "nbconvert_exporter": "python",
   "pygments_lexer": "ipython3",
   "version": "3.9.7"
  },
  "orig_nbformat": 4
 },
 "nbformat": 4,
 "nbformat_minor": 2
}
