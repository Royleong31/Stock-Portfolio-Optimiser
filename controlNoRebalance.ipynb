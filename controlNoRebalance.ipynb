{
 "cells": [
  {
   "cell_type": "markdown",
   "metadata": {},
   "source": [
    "# Buy and Hold Control"
   ]
  },
  {
   "cell_type": "code",
   "execution_count": 2,
   "metadata": {},
   "outputs": [],
   "source": [
    "import warnings\n",
    "import itertools\n",
    "import numpy as np\n",
    "import matplotlib.pyplot as plt\n",
    "warnings.filterwarnings(\"ignore\")\n",
    "plt.style.use('fivethirtyeight')\n",
    "import pandas as pd\n",
    "import statsmodels.api as sm\n",
    "import matplotlib\n",
    "from pandas_datareader import data as web\n",
    "import utils.getStockData as stockData\n",
    "import utils.calculateReturns as calculateReturns\n",
    "import utils.sharpeCalculation as sharpeCalculation"
   ]
  },
  {
   "cell_type": "code",
   "execution_count": 3,
   "metadata": {},
   "outputs": [],
   "source": [
    "stocks = [\"AAPL\", \"CAH\", \"CMCSA\", \"DISH\", \"GOOG\", \"HSY\", \"JNJ\", \"JPM\", \"K\", \"MA\", \"NFLX\", \"UL\", \"WBA\"]\n",
    "\n",
    "stockAllocation = {'AAPL': 1/13, 'CAH': 1/13, 'CMCSA':1/13, 'DISH': 1/13, 'GOOG': 1/13, 'HSY': 1/13, 'JNJ': 1/13, 'JPM': 1/13, 'K': 1/13, 'MA': 1/13, 'NFLX': 1/13, 'UL': 1/13, 'WBA': 1/13}\n",
    "startDate = '2017-11-30'\n",
    "endDate = '2022-03-18'"
   ]
  },
  {
   "cell_type": "code",
   "execution_count": 4,
   "metadata": {},
   "outputs": [],
   "source": [
    "data = stockData.getMultipleStocks(stocks, startDate, endDate)\n",
    "data.columns =  stocks\n",
    "data = data[1:] # this is to get rid of the 2017-11-30 data which is irrelevant, but used above to calculate the average for dec 2018"
   ]
  },
  {
   "cell_type": "code",
   "execution_count": 10,
   "metadata": {},
   "outputs": [],
   "source": [
    "# ?: use only the prices from the first and last month to calculate the changes in stock prices\n",
    "firstRow = data.iloc[0]\n",
    "lastRow = data.iloc[-1]"
   ]
  },
  {
   "cell_type": "code",
   "execution_count": 6,
   "metadata": {},
   "outputs": [
    {
     "data": {
      "text/plain": [
       "[0.9999999999999998,\n",
       " 1.0547112807295833,\n",
       " 1.0331382975065482,\n",
       " 1.0367728646459486,\n",
       " 1.0037865414578608,\n",
       " 0.9995752946646551,\n",
       " 1.0367250089906053,\n",
       " 1.053047500445487,\n",
       " 1.0782823896179898,\n",
       " 1.1046073739904567,\n",
       " 1.0692198617684963,\n",
       " 1.0411800931486348,\n",
       " 0.9750790416483239,\n",
       " 0.9882332630045625,\n",
       " 1.0459362804414727,\n",
       " 1.0551903992833913,\n",
       " 1.0863354556568172,\n",
       " 1.0885958361599013,\n",
       " 1.0956093363693884,\n",
       " 1.1313373967052276,\n",
       " 1.097984602899445,\n",
       " 1.124559766251845,\n",
       " 1.1229787523903685,\n",
       " 1.1757368146470453,\n",
       " 1.2042179395747277,\n",
       " 1.2539493864518743,\n",
       " 1.2798412780917972,\n",
       " 1.0744664654868015,\n",
       " 1.1112120418169862,\n",
       " 1.16560754889768,\n",
       " 1.2332641792703305,\n",
       " 1.2846144423520218,\n",
       " 1.3632843776282202,\n",
       " 1.33748668395208,\n",
       " 1.3411337810617143,\n",
       " 1.3766637264997454,\n",
       " 1.433153354560985,\n",
       " 1.4629987594296332,\n",
       " 1.4936696523977118,\n",
       " 1.5087478549288733,\n",
       " 1.5791930767402758,\n",
       " 1.5850109788441689,\n",
       " 1.5952024770747955,\n",
       " 1.6443398891809415,\n",
       " 1.6563367400616373,\n",
       " 1.6663966347897852,\n",
       " 1.6717638076597245,\n",
       " 1.6879856054610372,\n",
       " 1.6904121245881856,\n",
       " 1.6491935504322182,\n",
       " 1.6040828298566263,\n",
       " 1.5197731332270816]"
      ]
     },
     "execution_count": 6,
     "metadata": {},
     "output_type": "execute_result"
    }
   ],
   "source": [
    "numberOfEachStock = dict()\n",
    "portfolioValue = []\n",
    "# Calculate the number of each stock that is purchased on the first day\n",
    "for key in data.keys():\n",
    "    numberOfEachStock[key] = 1/13 / firstRow[key]\n",
    "\n",
    "# As the portfolio is never rebalanced, the number of stocks remains the same so portfolio value is the sum of the values of each stock * number of each stock\n",
    "for i, value in data.iterrows():\n",
    "    currentValue = 0\n",
    "    for ticker in data.keys():\n",
    "        currentValue += value[ticker]*numberOfEachStock[ticker]\n",
    "    portfolioValue.append(currentValue)\n",
    "portfolioValue"
   ]
  },
  {
   "cell_type": "code",
   "execution_count": 7,
   "metadata": {},
   "outputs": [],
   "source": [
    "portfolioPercentageChange = []\n",
    "for i,value in enumerate(portfolioValue):\n",
    "    if i==0:\n",
    "        continue\n",
    "    portfolioPercentageChange.append(((value - portfolioValue[i-1])*100/portfolioValue[i-1])/100)"
   ]
  },
  {
   "cell_type": "code",
   "execution_count": 8,
   "metadata": {},
   "outputs": [],
   "source": [
    "stockPercentageChange = dict()\n",
    "for key in data.keys():\n",
    "    stockPercentageChange[key] = 100* (lastRow[key] - firstRow[key])/firstRow[key]"
   ]
  },
  {
   "cell_type": "code",
   "execution_count": 9,
   "metadata": {},
   "outputs": [
    {
     "name": "stdout",
     "output_type": "stream",
     "text": [
      "Final Portfolio Value: $151977.31\n",
      "Sharpe Ratio: 1.63\n",
      "Percentage Return: 51.98%\n"
     ]
    }
   ],
   "source": [
    "finalPortfolioValue = portfolioValue[-1]*100000\n",
    "sharpeRatio = sharpeCalculation.sharpe_ratio(portfolioPercentageChange)\n",
    "print(f\"Final Portfolio Value: ${round(finalPortfolioValue, 2)}\")\n",
    "print(\"Sharpe Ratio:\", round(sharpeRatio, 2))\n",
    "print(\"Percentage Return: \" + str(round((finalPortfolioValue-100000)*100/100000, 2)) + \"%\")"
   ]
  }
 ],
 "metadata": {
  "interpreter": {
   "hash": "b6e63098ef74ed95c52295ce8bf4e674c61938cd490bcb42e4bd984a3c3c2a69"
  },
  "kernelspec": {
   "display_name": "Python 3.9.7 ('base')",
   "language": "python",
   "name": "python3"
  },
  "language_info": {
   "codemirror_mode": {
    "name": "ipython",
    "version": 3
   },
   "file_extension": ".py",
   "mimetype": "text/x-python",
   "name": "python",
   "nbconvert_exporter": "python",
   "pygments_lexer": "ipython3",
   "version": "3.9.7"
  },
  "orig_nbformat": 4
 },
 "nbformat": 4,
 "nbformat_minor": 2
}
